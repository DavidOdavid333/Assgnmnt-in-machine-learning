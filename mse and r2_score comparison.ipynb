{
 "cells": [
  {
   "cell_type": "code",
   "execution_count": 1,
   "id": "943c3079-9789-4268-a62c-8bbfc7d987ed",
   "metadata": {},
   "outputs": [
    {
     "name": "stderr",
     "output_type": "stream",
     "text": [
      "<>:5: SyntaxWarning: invalid escape sequence '\\s'\n",
      "<>:5: SyntaxWarning: invalid escape sequence '\\s'\n",
      "C:\\Users\\hp\\AppData\\Local\\Temp\\ipykernel_6276\\2477648824.py:5: SyntaxWarning: invalid escape sequence '\\s'\n",
      "  raw_df = pd.read_csv(data_url, sep=\"\\s+\", skiprows=22, header=None)\n"
     ]
    }
   ],
   "source": [
    "import pandas as pd\n",
    "import numpy as np\n",
    " \n",
    "data_url = \"http://lib.stat.cmu.edu/datasets/boston\"\n",
    "raw_df = pd.read_csv(data_url, sep=\"\\s+\", skiprows=22, header=None)\n",
    "X = np.hstack([raw_df.values[::2, :], raw_df.values[1::2, :2]])\n",
    "y = raw_df.values[1::2,2]"
   ]
  },
  {
   "cell_type": "code",
   "execution_count": 3,
   "id": "b2f989d6-c963-41fd-b031-d35c4f6a1abf",
   "metadata": {},
   "outputs": [
    {
     "data": {
      "text/plain": [
       "array([[6.3200e-03, 1.8000e+01, 2.3100e+00, ..., 1.5300e+01, 3.9690e+02,\n",
       "        4.9800e+00],\n",
       "       [2.7310e-02, 0.0000e+00, 7.0700e+00, ..., 1.7800e+01, 3.9690e+02,\n",
       "        9.1400e+00],\n",
       "       [2.7290e-02, 0.0000e+00, 7.0700e+00, ..., 1.7800e+01, 3.9283e+02,\n",
       "        4.0300e+00],\n",
       "       ...,\n",
       "       [6.0760e-02, 0.0000e+00, 1.1930e+01, ..., 2.1000e+01, 3.9690e+02,\n",
       "        5.6400e+00],\n",
       "       [1.0959e-01, 0.0000e+00, 1.1930e+01, ..., 2.1000e+01, 3.9345e+02,\n",
       "        6.4800e+00],\n",
       "       [4.7410e-02, 0.0000e+00, 1.1930e+01, ..., 2.1000e+01, 3.9690e+02,\n",
       "        7.8800e+00]])"
      ]
     },
     "execution_count": 3,
     "metadata": {},
     "output_type": "execute_result"
    }
   ],
   "source": [
    "X"
   ]
  },
  {
   "cell_type": "code",
   "execution_count": 5,
   "id": "b506c674-69a0-4c97-a007-988f5d8f5298",
   "metadata": {},
   "outputs": [
    {
     "data": {
      "text/plain": [
       "array([6.320e-03, 1.800e+01, 2.310e+00, 0.000e+00, 5.380e-01, 6.575e+00,\n",
       "       6.520e+01, 4.090e+00, 1.000e+00, 2.960e+02, 1.530e+01, 3.969e+02,\n",
       "       4.980e+00])"
      ]
     },
     "execution_count": 5,
     "metadata": {},
     "output_type": "execute_result"
    }
   ],
   "source": [
    "X[0]"
   ]
  },
  {
   "cell_type": "code",
   "execution_count": 7,
   "id": "d2f4ac46-4c22-4c38-bbe9-213217aa8083",
   "metadata": {},
   "outputs": [
    {
     "data": {
      "text/plain": [
       "array([3.2370e-02, 0.0000e+00, 2.1800e+00, 0.0000e+00, 4.5800e-01,\n",
       "       6.9980e+00, 4.5800e+01, 6.0622e+00, 3.0000e+00, 2.2200e+02,\n",
       "       1.8700e+01, 3.9463e+02, 2.9400e+00])"
      ]
     },
     "execution_count": 7,
     "metadata": {},
     "output_type": "execute_result"
    }
   ],
   "source": [
    "X[3]"
   ]
  },
  {
   "cell_type": "code",
   "execution_count": 45,
   "id": "9bccd021-bf2f-4799-adb7-719b73026304",
   "metadata": {},
   "outputs": [
    {
     "data": {
      "text/html": [
       "<div>\n",
       "<style scoped>\n",
       "    .dataframe tbody tr th:only-of-type {\n",
       "        vertical-align: middle;\n",
       "    }\n",
       "\n",
       "    .dataframe tbody tr th {\n",
       "        vertical-align: top;\n",
       "    }\n",
       "\n",
       "    .dataframe thead th {\n",
       "        text-align: right;\n",
       "    }\n",
       "</style>\n",
       "<table border=\"1\" class=\"dataframe\">\n",
       "  <thead>\n",
       "    <tr style=\"text-align: right;\">\n",
       "      <th></th>\n",
       "      <th>2</th>\n",
       "      <th>4</th>\n",
       "      <th>5</th>\n",
       "    </tr>\n",
       "  </thead>\n",
       "  <tbody>\n",
       "    <tr>\n",
       "      <th>0</th>\n",
       "      <td>2.31</td>\n",
       "      <td>0.538</td>\n",
       "      <td>6.575</td>\n",
       "    </tr>\n",
       "    <tr>\n",
       "      <th>2</th>\n",
       "      <td>7.07</td>\n",
       "      <td>0.469</td>\n",
       "      <td>6.421</td>\n",
       "    </tr>\n",
       "    <tr>\n",
       "      <th>4</th>\n",
       "      <td>7.07</td>\n",
       "      <td>0.469</td>\n",
       "      <td>7.185</td>\n",
       "    </tr>\n",
       "    <tr>\n",
       "      <th>6</th>\n",
       "      <td>2.18</td>\n",
       "      <td>0.458</td>\n",
       "      <td>6.998</td>\n",
       "    </tr>\n",
       "    <tr>\n",
       "      <th>8</th>\n",
       "      <td>2.18</td>\n",
       "      <td>0.458</td>\n",
       "      <td>7.147</td>\n",
       "    </tr>\n",
       "    <tr>\n",
       "      <th>...</th>\n",
       "      <td>...</td>\n",
       "      <td>...</td>\n",
       "      <td>...</td>\n",
       "    </tr>\n",
       "    <tr>\n",
       "      <th>1002</th>\n",
       "      <td>11.93</td>\n",
       "      <td>0.573</td>\n",
       "      <td>6.593</td>\n",
       "    </tr>\n",
       "    <tr>\n",
       "      <th>1004</th>\n",
       "      <td>11.93</td>\n",
       "      <td>0.573</td>\n",
       "      <td>6.120</td>\n",
       "    </tr>\n",
       "    <tr>\n",
       "      <th>1006</th>\n",
       "      <td>11.93</td>\n",
       "      <td>0.573</td>\n",
       "      <td>6.976</td>\n",
       "    </tr>\n",
       "    <tr>\n",
       "      <th>1008</th>\n",
       "      <td>11.93</td>\n",
       "      <td>0.573</td>\n",
       "      <td>6.794</td>\n",
       "    </tr>\n",
       "    <tr>\n",
       "      <th>1010</th>\n",
       "      <td>11.93</td>\n",
       "      <td>0.573</td>\n",
       "      <td>6.030</td>\n",
       "    </tr>\n",
       "  </tbody>\n",
       "</table>\n",
       "<p>506 rows × 3 columns</p>\n",
       "</div>"
      ],
      "text/plain": [
       "          2      4      5\n",
       "0      2.31  0.538  6.575\n",
       "2      7.07  0.469  6.421\n",
       "4      7.07  0.469  7.185\n",
       "6      2.18  0.458  6.998\n",
       "8      2.18  0.458  7.147\n",
       "...     ...    ...    ...\n",
       "1002  11.93  0.573  6.593\n",
       "1004  11.93  0.573  6.120\n",
       "1006  11.93  0.573  6.976\n",
       "1008  11.93  0.573  6.794\n",
       "1010  11.93  0.573  6.030\n",
       "\n",
       "[506 rows x 3 columns]"
      ]
     },
     "execution_count": 45,
     "metadata": {},
     "output_type": "execute_result"
    }
   ],
   "source": [
    "raw_df[random.sample(list(raw_df.columns),3)]"
   ]
  },
  {
   "cell_type": "code",
   "execution_count": 143,
   "id": "41937710-2672-4c50-a040-01601bf54c63",
   "metadata": {},
   "outputs": [
    {
     "data": {
      "text/plain": [
       "array([[6.5750e+00, 6.3200e-03, 6.5200e+01],\n",
       "       [6.4210e+00, 2.7310e-02, 7.8900e+01],\n",
       "       [7.1850e+00, 2.7290e-02, 6.1100e+01],\n",
       "       ...,\n",
       "       [6.9760e+00, 6.0760e-02, 9.1000e+01],\n",
       "       [6.7940e+00, 1.0959e-01, 8.9300e+01],\n",
       "       [6.0300e+00, 4.7410e-02, 8.0800e+01]])"
      ]
     },
     "execution_count": 143,
     "metadata": {},
     "output_type": "execute_result"
    }
   ],
   "source": [
    "np.array(raw_df[random.sample(list(raw_df.columns),3)])"
   ]
  },
  {
   "cell_type": "code",
   "execution_count": 49,
   "id": "02c1409d-def9-4cf7-8f74-f129b1da45e8",
   "metadata": {},
   "outputs": [
    {
     "data": {
      "text/html": [
       "<div>\n",
       "<style scoped>\n",
       "    .dataframe tbody tr th:only-of-type {\n",
       "        vertical-align: middle;\n",
       "    }\n",
       "\n",
       "    .dataframe tbody tr th {\n",
       "        vertical-align: top;\n",
       "    }\n",
       "\n",
       "    .dataframe thead th {\n",
       "        text-align: right;\n",
       "    }\n",
       "</style>\n",
       "<table border=\"1\" class=\"dataframe\">\n",
       "  <thead>\n",
       "    <tr style=\"text-align: right;\">\n",
       "      <th></th>\n",
       "      <th>2</th>\n",
       "      <th>10</th>\n",
       "      <th>6</th>\n",
       "    </tr>\n",
       "  </thead>\n",
       "  <tbody>\n",
       "    <tr>\n",
       "      <th>0</th>\n",
       "      <td>2.31</td>\n",
       "      <td>15.3</td>\n",
       "      <td>65.2</td>\n",
       "    </tr>\n",
       "    <tr>\n",
       "      <th>2</th>\n",
       "      <td>7.07</td>\n",
       "      <td>17.8</td>\n",
       "      <td>78.9</td>\n",
       "    </tr>\n",
       "    <tr>\n",
       "      <th>4</th>\n",
       "      <td>7.07</td>\n",
       "      <td>17.8</td>\n",
       "      <td>61.1</td>\n",
       "    </tr>\n",
       "    <tr>\n",
       "      <th>6</th>\n",
       "      <td>2.18</td>\n",
       "      <td>18.7</td>\n",
       "      <td>45.8</td>\n",
       "    </tr>\n",
       "    <tr>\n",
       "      <th>8</th>\n",
       "      <td>2.18</td>\n",
       "      <td>18.7</td>\n",
       "      <td>54.2</td>\n",
       "    </tr>\n",
       "    <tr>\n",
       "      <th>...</th>\n",
       "      <td>...</td>\n",
       "      <td>...</td>\n",
       "      <td>...</td>\n",
       "    </tr>\n",
       "    <tr>\n",
       "      <th>1002</th>\n",
       "      <td>11.93</td>\n",
       "      <td>21.0</td>\n",
       "      <td>69.1</td>\n",
       "    </tr>\n",
       "    <tr>\n",
       "      <th>1004</th>\n",
       "      <td>11.93</td>\n",
       "      <td>21.0</td>\n",
       "      <td>76.7</td>\n",
       "    </tr>\n",
       "    <tr>\n",
       "      <th>1006</th>\n",
       "      <td>11.93</td>\n",
       "      <td>21.0</td>\n",
       "      <td>91.0</td>\n",
       "    </tr>\n",
       "    <tr>\n",
       "      <th>1008</th>\n",
       "      <td>11.93</td>\n",
       "      <td>21.0</td>\n",
       "      <td>89.3</td>\n",
       "    </tr>\n",
       "    <tr>\n",
       "      <th>1010</th>\n",
       "      <td>11.93</td>\n",
       "      <td>21.0</td>\n",
       "      <td>80.8</td>\n",
       "    </tr>\n",
       "  </tbody>\n",
       "</table>\n",
       "<p>506 rows × 3 columns</p>\n",
       "</div>"
      ],
      "text/plain": [
       "         2     10    6 \n",
       "0      2.31  15.3  65.2\n",
       "2      7.07  17.8  78.9\n",
       "4      7.07  17.8  61.1\n",
       "6      2.18  18.7  45.8\n",
       "8      2.18  18.7  54.2\n",
       "...     ...   ...   ...\n",
       "1002  11.93  21.0  69.1\n",
       "1004  11.93  21.0  76.7\n",
       "1006  11.93  21.0  91.0\n",
       "1008  11.93  21.0  89.3\n",
       "1010  11.93  21.0  80.8\n",
       "\n",
       "[506 rows x 3 columns]"
      ]
     },
     "execution_count": 49,
     "metadata": {},
     "output_type": "execute_result"
    }
   ],
   "source": [
    "raw_df[random.sample(list(raw_df.columns),3)]"
   ]
  },
  {
   "cell_type": "code",
   "execution_count": 55,
   "id": "56147b9a-7dd9-42ee-ae79-85545af55bba",
   "metadata": {},
   "outputs": [],
   "source": [
    "from sklearn.linear_model import LinearRegression\n",
    "from sklearn.model_selection import train_test_split\n",
    "from sklearn.metrics import mean_squared_error, r2_score"
   ]
  },
  {
   "cell_type": "code",
   "execution_count": 115,
   "id": "101c42c8-a203-4c95-a820-46e45185e3d2",
   "metadata": {},
   "outputs": [],
   "source": [
    "def multiple_linear_regression(X,y):\n",
    "    ml_model=LinearRegression()\n",
    "    X_train,X_test,y_train,y_test=train_test_split(X,y)\n",
    "    ml_model.fit(X_train,y_train)\n",
    "    y_pred=ml_model.predict(X_test)\n",
    "    score=r2_score(y_test,y_pred)*100\n",
    "    mse=mean_squared_error(y_test,y_pred)\n",
    "    print(f\"data relevance(r2): {score}\\nMSE: {mse}\")"
   ]
  },
  {
   "cell_type": "code",
   "execution_count": 139,
   "id": "ab58db96-da75-4236-9e21-e6c15c6fed99",
   "metadata": {},
   "outputs": [
    {
     "name": "stdout",
     "output_type": "stream",
     "text": [
      "data relevance(r2): 25.189284931940637\n",
      "MSE: 46.48153226323308\n"
     ]
    }
   ],
   "source": [
    "multiple_linear_regression(np.array(raw_df[random.sample(list(raw_df.columns),3)]),y)"
   ]
  },
  {
   "cell_type": "code",
   "execution_count": 167,
   "id": "4dac2963-885d-4474-84db-81f39cff9b12",
   "metadata": {},
   "outputs": [
    {
     "name": "stdout",
     "output_type": "stream",
     "text": [
      "data relevance(r2): 67.18186773704224\n",
      "MSE: 25.52091505362831\n",
      "IRRELEVANT DATA USED\n"
     ]
    }
   ],
   "source": [
    "multiple_linear_regression(np.array(raw_df[random.sample(list(raw_df.columns),3)]),y)\n",
    "print(\"IRRELEVANT DATA USED\")"
   ]
  },
  {
   "cell_type": "code",
   "execution_count": 147,
   "id": "b85a4025-b8e4-47e3-a7da-98eced391b8a",
   "metadata": {},
   "outputs": [
    {
     "name": "stdout",
     "output_type": "stream",
     "text": [
      "data relevance(r2): 11.982034846080614\n",
      "MSE: 88.30702468642795\n"
     ]
    }
   ],
   "source": [
    "multiple_linear_regression(np.array(raw_df[random.sample(list(raw_df.columns),3)]),y)"
   ]
  },
  {
   "cell_type": "code",
   "execution_count": 149,
   "id": "a8a1b0ae-6906-4229-93a6-5c1fe75d2fc7",
   "metadata": {},
   "outputs": [
    {
     "name": "stdout",
     "output_type": "stream",
     "text": [
      "data relevance(r2): 16.70993024645593\n",
      "MSE: 67.5084714177112\n"
     ]
    }
   ],
   "source": [
    "multiple_linear_regression(np.array(raw_df[random.sample(list(raw_df.columns),3)]),y)"
   ]
  },
  {
   "cell_type": "code",
   "execution_count": 151,
   "id": "83835298-a37e-4b29-a4de-db82b380fd70",
   "metadata": {},
   "outputs": [
    {
     "name": "stdout",
     "output_type": "stream",
     "text": [
      "data relevance(r2): 46.586829342690805\n",
      "MSE: 40.717517349272796\n"
     ]
    }
   ],
   "source": [
    "multiple_linear_regression(np.array(raw_df[random.sample(list(raw_df.columns),3)]),y)"
   ]
  },
  {
   "cell_type": "code",
   "execution_count": 153,
   "id": "5d7c2c46-1c0b-4f07-a433-bedd9125f006",
   "metadata": {},
   "outputs": [
    {
     "name": "stdout",
     "output_type": "stream",
     "text": [
      "data relevance(r2): 26.072764790781044\n",
      "MSE: 70.3160476707461\n"
     ]
    }
   ],
   "source": [
    "multiple_linear_regression(np.array(raw_df[random.sample(list(raw_df.columns),3)]),y)"
   ]
  },
  {
   "cell_type": "code",
   "execution_count": 155,
   "id": "ccfeffb9-73e0-4481-a4ab-d3a73b06d4fd",
   "metadata": {},
   "outputs": [
    {
     "name": "stdout",
     "output_type": "stream",
     "text": [
      "data relevance(r2): 26.496241161303423\n",
      "MSE: 49.73903157232549\n"
     ]
    }
   ],
   "source": [
    "multiple_linear_regression(np.array(raw_df[random.sample(list(raw_df.columns),3)]),y)"
   ]
  },
  {
   "cell_type": "code",
   "execution_count": 157,
   "id": "b9eddd12-2eea-4a12-8b1f-2cfeda36aa97",
   "metadata": {},
   "outputs": [
    {
     "name": "stdout",
     "output_type": "stream",
     "text": [
      "data relevance(r2): 30.62707944045591\n",
      "MSE: 63.22987252905766\n"
     ]
    }
   ],
   "source": [
    "multiple_linear_regression(np.array(raw_df[random.sample(list(raw_df.columns),3)]),y)"
   ]
  },
  {
   "cell_type": "code",
   "execution_count": 165,
   "id": "058c2095-310e-45dc-ab1d-8f6dc6cf73da",
   "metadata": {},
   "outputs": [
    {
     "name": "stdout",
     "output_type": "stream",
     "text": [
      "data relevance(r2): 28.3205701542115\n",
      "MSE: 57.73405700129055\n",
      "RELEVANT DATA USED\n"
     ]
    }
   ],
   "source": [
    "multiple_linear_regression(np.array(raw_df[random.sample(list(raw_df.columns),3)]),y)\n",
    "print(\"RELEVANT DATA USED\")"
   ]
  },
  {
   "cell_type": "code",
   "execution_count": null,
   "id": "62bb3295-8072-4676-8c79-bf53b47b1a12",
   "metadata": {},
   "outputs": [],
   "source": []
  }
 ],
 "metadata": {
  "kernelspec": {
   "display_name": "Python 3 (ipykernel)",
   "language": "python",
   "name": "python3"
  },
  "language_info": {
   "codemirror_mode": {
    "name": "ipython",
    "version": 3
   },
   "file_extension": ".py",
   "mimetype": "text/x-python",
   "name": "python",
   "nbconvert_exporter": "python",
   "pygments_lexer": "ipython3",
   "version": "3.12.7"
  }
 },
 "nbformat": 4,
 "nbformat_minor": 5
}
