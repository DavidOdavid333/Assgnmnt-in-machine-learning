{
 "cells": [
  {
   "cell_type": "markdown",
   "id": "3cd6b16f-99eb-4d69-8fc7-051198006fdf",
   "metadata": {},
   "source": [
    "## COMPARING MINSKOWSKI DIFFERENT VALUES(1,2,3,4,5) IN DIFFERENT VALUES OF NEIGHBORS"
   ]
  },
  {
   "cell_type": "code",
   "execution_count": 1,
   "id": "a68ad9ec-1955-45ac-8efc-17a34100d295",
   "metadata": {},
   "outputs": [],
   "source": [
    "from sklearn.datasets import load_breast_cancer"
   ]
  },
  {
   "cell_type": "code",
   "execution_count": 5,
   "id": "7f16f15e-0013-4ede-80ca-36851b7a1197",
   "metadata": {},
   "outputs": [],
   "source": [
    "breast_cancer=load_breast_cancer()"
   ]
  },
  {
   "cell_type": "code",
   "execution_count": 18,
   "id": "c81372c4-da8f-49af-bf7a-0ed40fbfb382",
   "metadata": {},
   "outputs": [],
   "source": [
    "X=breast_cancer.data\n",
    "y=breast_cancer.target"
   ]
  },
  {
   "cell_type": "code",
   "execution_count": 19,
   "id": "efcadec7-5fcc-4c42-81c8-8eb06755f89a",
   "metadata": {},
   "outputs": [],
   "source": [
    "from sklearn.neighbors import KNeighborsClassifier\n",
    "from sklearn.model_selection import train_test_split\n",
    "from sklearn.metrics import r2_score"
   ]
  },
  {
   "cell_type": "markdown",
   "id": "844e7337-ec0f-4aea-bed1-f2363f57907b",
   "metadata": {},
   "source": [
    "## WHEN K OR NEAREST NEIGHBOURS IS 5"
   ]
  },
  {
   "cell_type": "code",
   "execution_count": 57,
   "id": "0dd0719c-2a31-4407-aae5-348e14e82e38",
   "metadata": {},
   "outputs": [],
   "source": [
    "def knn_cancer_predict(K=5,z=[1,2,3,4,5]):\n",
    "    weight=[\"uniform\",\"distance\"]\n",
    "    for j in weight:\n",
    "        for i in z:\n",
    "            X_train, X_test, y_train, y_test=train_test_split(X,y)\n",
    "            k_model=KNeighborsClassifier(K,p=i)\n",
    "            k_model.fit(X_train,y_train)\n",
    "            y_pred=k_model.predict(X_test)\n",
    "            r2=r2_score(y_test,y_pred)*100\n",
    "            print(f\"KNN with {K} neighbors and minkowski value of {i} has {r2} accuracy\")\n",
    "        print(\"===\"*30)"
   ]
  },
  {
   "cell_type": "code",
   "execution_count": 58,
   "id": "520394e7-2477-48d4-a53b-a55e4b8aa1fa",
   "metadata": {},
   "outputs": [
    {
     "name": "stdout",
     "output_type": "stream",
     "text": [
      "KNN with 5 neighbors and minkowski value of 1 has 88.18181818181819 accuracy\n",
      "KNN with 5 neighbors and minkowski value of 2 has 60.021505376344095 accuracy\n",
      "KNN with 5 neighbors and minkowski value of 3 has 64.33106575963718 accuracy\n",
      "KNN with 5 neighbors and minkowski value of 4 has 65.5421686746988 accuracy\n",
      "KNN with 5 neighbors and minkowski value of 5 has 76.36363636363637 accuracy\n",
      "==========================================================================================\n",
      "KNN with 5 neighbors and minkowski value of 1 has 73.58374384236454 accuracy\n",
      "KNN with 5 neighbors and minkowski value of 2 has 64.29463171036204 accuracy\n",
      "KNN with 5 neighbors and minkowski value of 3 has 70.45454545454545 accuracy\n",
      "KNN with 5 neighbors and minkowski value of 4 has 76.19642114024137 accuracy\n",
      "KNN with 5 neighbors and minkowski value of 5 has 67.02306079664571 accuracy\n",
      "==========================================================================================\n"
     ]
    }
   ],
   "source": [
    "knn_cancer_predict()\n"
   ]
  },
  {
   "cell_type": "markdown",
   "id": "fa1079c0-da70-437f-b5d6-76129e3e7c70",
   "metadata": {},
   "source": [
    "## WHEN K OR NEAREST NEIGHBORS IS 7"
   ]
  },
  {
   "cell_type": "code",
   "execution_count": 53,
   "id": "d1c5635a-c9dd-42dc-9977-6cae1bb56b0b",
   "metadata": {},
   "outputs": [
    {
     "name": "stdout",
     "output_type": "stream",
     "text": [
      "KNN with 7 neighbors and minkowski value of 1 has 71.15643209323174 accuracy\n",
      "KNN with 7 neighbors and minkowski value of 2 has 53.03776683087027 accuracy\n",
      "KNN with 7 neighbors and minkowski value of 3 has 71.15643209323174 accuracy\n",
      "KNN with 7 neighbors and minkowski value of 4 has 62.36842105263158 accuracy\n",
      "KNN with 7 neighbors and minkowski value of 5 has 75.61807331628303 accuracy\n",
      "==========================================================================================\n",
      "KNN with 7 neighbors and minkowski value of 1 has 71.14608555286522 accuracy\n",
      "KNN with 7 neighbors and minkowski value of 2 has 62.292089249492896 accuracy\n",
      "KNN with 7 neighbors and minkowski value of 3 has 79.57976336189311 accuracy\n",
      "KNN with 7 neighbors and minkowski value of 4 has 61.31918435289223 accuracy\n",
      "KNN with 7 neighbors and minkowski value of 5 has 66.47485080988918 accuracy\n",
      "==========================================================================================\n"
     ]
    }
   ],
   "source": [
    "z=[1,2,3,4,5]\n",
    "weight=[\"uniform\",\"distance\"]\n",
    "for j in weight:\n",
    "    for i in z:\n",
    "        n_neighbors=7\n",
    "        X_train, X_test, y_train, y_test=train_test_split(X,y)\n",
    "        k_model=KNeighborsClassifier(n_neighbors,p=i)\n",
    "        k_model.fit(X_train,y_train)\n",
    "        y_pred=k_model.predict(X_test)\n",
    "        r2=r2_score(y_test,y_pred)*100\n",
    "        print(f\"KNN with {n_neighbors} neighbors and minkowski value of {i} has {r2} accuracy\")\n",
    "    print(\"===\"*30)"
   ]
  },
  {
   "cell_type": "markdown",
   "id": "b5144bf9-079f-4d90-a85a-187157c656d6",
   "metadata": {},
   "source": [
    "## WHEN K OR NEAREST NEIGHBORS IS 9"
   ]
  },
  {
   "cell_type": "code",
   "execution_count": 55,
   "id": "0c627497-61fb-4122-83b6-266be0709eaf",
   "metadata": {},
   "outputs": [
    {
     "name": "stdout",
     "output_type": "stream",
     "text": [
      "KNN with 9 neighbors and minkowski value of 1 has 68.64035087719299 accuracy\n",
      "KNN with 9 neighbors and minkowski value of 2 has 69.78021978021978 accuracy\n",
      "KNN with 9 neighbors and minkowski value of 3 has 68.4136546184739 accuracy\n",
      "KNN with 9 neighbors and minkowski value of 4 has 81.86813186813187 accuracy\n",
      "KNN with 9 neighbors and minkowski value of 5 has 64.29463171036205 accuracy\n",
      "==========================================================================================\n",
      "KNN with 9 neighbors and minkowski value of 1 has 54.258296681327465 accuracy\n",
      "KNN with 9 neighbors and minkowski value of 2 has 64.77832512315271 accuracy\n",
      "KNN with 9 neighbors and minkowski value of 3 has 73.7454100367197 accuracy\n",
      "KNN with 9 neighbors and minkowski value of 4 has 71.15643209323173 accuracy\n",
      "KNN with 9 neighbors and minkowski value of 5 has 67.02306079664571 accuracy\n",
      "==========================================================================================\n"
     ]
    }
   ],
   "source": [
    "z=[1,2,3,4,5]\n",
    "weight=[\"uniform\",\"distance\"]\n",
    "for j in weight:\n",
    "    for i in z:\n",
    "        n_neighbors=9\n",
    "        X_train, X_test, y_train, y_test=train_test_split(X,y)\n",
    "        k_model=KNeighborsClassifier(n_neighbors,p=i)\n",
    "        k_model.fit(X_train,y_train)\n",
    "        y_pred=k_model.predict(X_test)\n",
    "        r2=r2_score(y_test,y_pred)*100\n",
    "        print(f\"KNN with {n_neighbors} neighbors and minkowski value of {i} has {r2} accuracy\")\n",
    "    print(\"===\"*30)"
   ]
  },
  {
   "cell_type": "markdown",
   "id": "a51e437e-e2e9-41af-8ef0-72d429b8dcf6",
   "metadata": {},
   "source": [
    "## WHEN K OR NEARESTR NEIGHBORS IS 11"
   ]
  },
  {
   "cell_type": "code",
   "execution_count": 56,
   "id": "bde3faf4-fd89-4830-807b-c227f52dc3eb",
   "metadata": {},
   "outputs": [
    {
     "name": "stdout",
     "output_type": "stream",
     "text": [
      "KNN with 11 neighbors and minkowski value of 1 has 56.53495440729483 accuracy\n",
      "KNN with 11 neighbors and minkowski value of 2 has 72.0581849761181 accuracy\n",
      "KNN with 11 neighbors and minkowski value of 3 has 61.843185550082104 accuracy\n",
      "KNN with 11 neighbors and minkowski value of 4 has 72.80219780219781 accuracy\n",
      "KNN with 11 neighbors and minkowski value of 5 has 74.05895691609977 accuracy\n",
      "==========================================================================================\n",
      "KNN with 11 neighbors and minkowski value of 1 has 76.0167714884696 accuracy\n",
      "KNN with 11 neighbors and minkowski value of 2 has 79.57976336189311 accuracy\n",
      "KNN with 11 neighbors and minkowski value of 3 has 67.27007906783187 accuracy\n",
      "KNN with 11 neighbors and minkowski value of 4 has 55.03144654088049 accuracy\n",
      "KNN with 11 neighbors and minkowski value of 5 has 73.0188679245283 accuracy\n",
      "==========================================================================================\n"
     ]
    }
   ],
   "source": [
    "z=[1,2,3,4,5]\n",
    "weight=[\"uniform\",\"distance\"]\n",
    "for j in weight:\n",
    "    for i in z:\n",
    "        n_neighbors=11\n",
    "        X_train, X_test, y_train, y_test=train_test_split(X,y)\n",
    "        k_model=KNeighborsClassifier(n_neighbors,p=i)\n",
    "        k_model.fit(X_train,y_train)\n",
    "        y_pred=k_model.predict(X_test)\n",
    "        r2=r2_score(y_test,y_pred)*100\n",
    "        print(f\"KNN with {n_neighbors} neighbors and minkowski value of {i} has {r2} accuracy\")\n",
    "    print(\"===\"*30)"
   ]
  },
  {
   "cell_type": "markdown",
   "id": "03805fd2-14f3-472a-b513-305e6ed12cda",
   "metadata": {},
   "source": [
    "## WHEN K OR NEAREST NEIGHBORS IS 13"
   ]
  },
  {
   "cell_type": "code",
   "execution_count": 52,
   "id": "393764be-d1b5-4482-8002-464e0f37189d",
   "metadata": {},
   "outputs": [
    {
     "name": "stdout",
     "output_type": "stream",
     "text": [
      "KNN with 13 neighbors and minkowski value of 1 has 79.31818181818183 accuracy\n",
      "KNN with 13 neighbors and minkowski value of 2 has 67.27007906783187 accuracy\n",
      "KNN with 13 neighbors and minkowski value of 3 has 66.47485080988918 accuracy\n",
      "KNN with 13 neighbors and minkowski value of 4 has 70.99391480730223 accuracy\n",
      "KNN with 13 neighbors and minkowski value of 5 has 78.04824561403508 accuracy\n",
      "============================================================\n",
      "KNN with 13 neighbors and minkowski value of 1 has 58.029350104821795 accuracy\n",
      "KNN with 13 neighbors and minkowski value of 2 has 64.77832512315271 accuracy\n",
      "KNN with 13 neighbors and minkowski value of 3 has 81.86813186813187 accuracy\n",
      "KNN with 13 neighbors and minkowski value of 4 has 61.843185550082104 accuracy\n",
      "KNN with 13 neighbors and minkowski value of 5 has 68.78968253968254 accuracy\n",
      "============================================================\n"
     ]
    }
   ],
   "source": [
    "z=[1,2,3,4,5]\n",
    "weight=[\"uniform\",\"distance\"]\n",
    "for j in weight:\n",
    "    for i in z:\n",
    "        n_neighbors=13\n",
    "        X_train, X_test, y_train, y_test=train_test_split(X,y)\n",
    "        k_model=KNeighborsClassifier(n_neighbors,p=i)\n",
    "        k_model.fit(X_train,y_train)\n",
    "        y_pred=k_model.predict(X_test)\n",
    "        r2=r2_score(y_test,y_pred)*100\n",
    "        print(f\"KNN with {n_neighbors} neighbors and minkowski value of {i} has {r2} accuracy\")\n",
    "    print(\"==\"*30)"
   ]
  },
  {
   "cell_type": "markdown",
   "id": "28804b2b-f3c2-4a7c-aeaf-8335ecafa975",
   "metadata": {},
   "source": [
    "## WHEN K OR NEAREST NEIGHBORS IS 15"
   ]
  },
  {
   "cell_type": "code",
   "execution_count": 51,
   "id": "b5b413f4-fecb-4bec-8424-eaea7472b3bb",
   "metadata": {},
   "outputs": [
    {
     "name": "stdout",
     "output_type": "stream",
     "text": [
      "KNN with 15 neighbors and minkowski value of 1 has 78.84615384615385 accuracy\n",
      "KNN with 15 neighbors and minkowski value of 2 has 73.894523326572 accuracy\n",
      "KNN with 15 neighbors and minkowski value of 3 has 73.58374384236453 accuracy\n",
      "KNN with 15 neighbors and minkowski value of 4 has 73.0188679245283 accuracy\n",
      "KNN with 15 neighbors and minkowski value of 5 has 44.57364341085272 accuracy\n",
      "============================================================\n",
      "KNN with 15 neighbors and minkowski value of 1 has 65.13741134751774 accuracy\n",
      "KNN with 15 neighbors and minkowski value of 2 has 64.02515723270442 accuracy\n",
      "KNN with 15 neighbors and minkowski value of 3 has 70.99391480730223 accuracy\n",
      "KNN with 15 neighbors and minkowski value of 4 has 69.5225916453538 accuracy\n",
      "KNN with 15 neighbors and minkowski value of 5 has 67.02306079664571 accuracy\n",
      "============================================================\n"
     ]
    }
   ],
   "source": [
    "z=[1,2,3,4,5]\n",
    "weight=[\"uniform\",\"distance\"]\n",
    "for j in weight:\n",
    "    for i in z:\n",
    "        n_neighbors=15\n",
    "        X_train, X_test, y_train, y_test=train_test_split(X,y)\n",
    "        k_model=KNeighborsClassifier(n_neighbors,p=i, weights=j)\n",
    "        k_model.fit(X_train,y_train)\n",
    "        y_pred=k_model.predict(X_test)\n",
    "        r2=r2_score(y_test,y_pred)*100\n",
    "        print(f\"KNN with {n_neighbors} neighbors and minkowski value of {i} has {r2} accuracy\")\n",
    "    print(\"==\"*30)"
   ]
  },
  {
   "cell_type": "code",
   "execution_count": null,
   "id": "b8968bf6-020c-47eb-af75-4d238cdd02d4",
   "metadata": {},
   "outputs": [],
   "source": []
  },
  {
   "cell_type": "code",
   "execution_count": null,
   "id": "a7c0f4a5-9695-4579-be75-8742b46be75d",
   "metadata": {},
   "outputs": [],
   "source": []
  },
  {
   "cell_type": "code",
   "execution_count": 48,
   "id": "b180f8f3-83fa-46c3-9286-41d86ad15ac3",
   "metadata": {},
   "outputs": [
    {
     "name": "stdout",
     "output_type": "stream",
     "text": [
      "KNN with 7 neighbors and minkowski value of 1 has 68.95353886235344 accuracy\n",
      "KNN with 7 neighbors and minkowski value of 2 has 81.54838709677419 accuracy\n",
      "KNN with 7 neighbors and minkowski value of 3 has 73.4090909090909 accuracy\n",
      "KNN with 7 neighbors and minkowski value of 4 has 70.64860426929394 accuracy\n",
      "KNN with 7 neighbors and minkowski value of 5 has 63.73626373626373 accuracy\n",
      "==========================================================================================\n",
      "KNN with 7 neighbors and minkowski value of 1 has 78.66581415174765 accuracy\n",
      "KNN with 7 neighbors and minkowski value of 2 has 78.0482456140351 accuracy\n",
      "KNN with 7 neighbors and minkowski value of 3 has 71.41143542582967 accuracy\n",
      "KNN with 7 neighbors and minkowski value of 4 has 74.91228070175438 accuracy\n",
      "KNN with 7 neighbors and minkowski value of 5 has 57.84580498866213 accuracy\n",
      "==========================================================================================\n"
     ]
    }
   ],
   "source": [
    "z=[1,2,3,4,5]\n",
    "weight=[\"uniform\",\"distance\"]\n",
    "for j in weight:\n",
    "    for i in z:\n",
    "        n_neighbors=7\n",
    "        X_train, X_test, y_train, y_test=train_test_split(X,y)\n",
    "        k_model=KNeighborsClassifier(n_neighbors,p=i,weights=j)\n",
    "        k_model.fit(X_train,y_train)\n",
    "        y_pred=k_model.predict(X_test)\n",
    "        r2=r2_score(y_test,y_pred)*100\n",
    "        print(f\"KNN with {n_neighbors} neighbors and minkowski value of {i} has {r2} accuracy\")\n",
    "    print(\"===\"*30)"
   ]
  },
  {
   "cell_type": "code",
   "execution_count": null,
   "id": "089c13da-af3d-48ed-9cb1-af5c2f217bf2",
   "metadata": {},
   "outputs": [],
   "source": []
  }
 ],
 "metadata": {
  "kernelspec": {
   "display_name": "Python 3 (ipykernel)",
   "language": "python",
   "name": "python3"
  },
  "language_info": {
   "codemirror_mode": {
    "name": "ipython",
    "version": 3
   },
   "file_extension": ".py",
   "mimetype": "text/x-python",
   "name": "python",
   "nbconvert_exporter": "python",
   "pygments_lexer": "ipython3",
   "version": "3.12.7"
  }
 },
 "nbformat": 4,
 "nbformat_minor": 5
}
