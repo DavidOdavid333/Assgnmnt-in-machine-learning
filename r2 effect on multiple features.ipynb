{
 "cells": [
  {
   "cell_type": "code",
   "execution_count": 81,
   "id": "78d58c63-5481-4eba-88a0-33fca25c778b",
   "metadata": {},
   "outputs": [
    {
     "name": "stderr",
     "output_type": "stream",
     "text": [
      "<>:5: SyntaxWarning: invalid escape sequence '\\s'\n",
      "<>:5: SyntaxWarning: invalid escape sequence '\\s'\n",
      "C:\\Users\\hp\\AppData\\Local\\Temp\\ipykernel_6644\\2477648824.py:5: SyntaxWarning: invalid escape sequence '\\s'\n",
      "  raw_df = pd.read_csv(data_url, sep=\"\\s+\", skiprows=22, header=None)\n"
     ]
    }
   ],
   "source": [
    "import pandas as pd\n",
    "import numpy as np\n",
    " \n",
    "data_url = \"http://lib.stat.cmu.edu/datasets/boston\"\n",
    "raw_df = pd.read_csv(data_url, sep=\"\\s+\", skiprows=22, header=None)\n",
    "X = np.hstack([raw_df.values[::2, :], raw_df.values[1::2, :2]])\n",
    "y = raw_df.values[1::2,2]"
   ]
  },
  {
   "cell_type": "code",
   "execution_count": 3,
   "id": "941a02dd-1c9e-4e73-bcf3-69cc89516764",
   "metadata": {},
   "outputs": [
    {
     "data": {
      "text/html": [
       "<div>\n",
       "<style scoped>\n",
       "    .dataframe tbody tr th:only-of-type {\n",
       "        vertical-align: middle;\n",
       "    }\n",
       "\n",
       "    .dataframe tbody tr th {\n",
       "        vertical-align: top;\n",
       "    }\n",
       "\n",
       "    .dataframe thead th {\n",
       "        text-align: right;\n",
       "    }\n",
       "</style>\n",
       "<table border=\"1\" class=\"dataframe\">\n",
       "  <thead>\n",
       "    <tr style=\"text-align: right;\">\n",
       "      <th></th>\n",
       "      <th>0</th>\n",
       "      <th>1</th>\n",
       "      <th>2</th>\n",
       "      <th>3</th>\n",
       "      <th>4</th>\n",
       "      <th>5</th>\n",
       "      <th>6</th>\n",
       "      <th>7</th>\n",
       "      <th>8</th>\n",
       "      <th>9</th>\n",
       "      <th>10</th>\n",
       "    </tr>\n",
       "  </thead>\n",
       "  <tbody>\n",
       "    <tr>\n",
       "      <th>0</th>\n",
       "      <td>0.00632</td>\n",
       "      <td>18.00</td>\n",
       "      <td>2.31</td>\n",
       "      <td>0.0</td>\n",
       "      <td>0.538</td>\n",
       "      <td>6.575</td>\n",
       "      <td>65.2</td>\n",
       "      <td>4.0900</td>\n",
       "      <td>1.0</td>\n",
       "      <td>296.0</td>\n",
       "      <td>15.3</td>\n",
       "    </tr>\n",
       "    <tr>\n",
       "      <th>1</th>\n",
       "      <td>396.90000</td>\n",
       "      <td>4.98</td>\n",
       "      <td>24.00</td>\n",
       "      <td>NaN</td>\n",
       "      <td>NaN</td>\n",
       "      <td>NaN</td>\n",
       "      <td>NaN</td>\n",
       "      <td>NaN</td>\n",
       "      <td>NaN</td>\n",
       "      <td>NaN</td>\n",
       "      <td>NaN</td>\n",
       "    </tr>\n",
       "    <tr>\n",
       "      <th>2</th>\n",
       "      <td>0.02731</td>\n",
       "      <td>0.00</td>\n",
       "      <td>7.07</td>\n",
       "      <td>0.0</td>\n",
       "      <td>0.469</td>\n",
       "      <td>6.421</td>\n",
       "      <td>78.9</td>\n",
       "      <td>4.9671</td>\n",
       "      <td>2.0</td>\n",
       "      <td>242.0</td>\n",
       "      <td>17.8</td>\n",
       "    </tr>\n",
       "    <tr>\n",
       "      <th>3</th>\n",
       "      <td>396.90000</td>\n",
       "      <td>9.14</td>\n",
       "      <td>21.60</td>\n",
       "      <td>NaN</td>\n",
       "      <td>NaN</td>\n",
       "      <td>NaN</td>\n",
       "      <td>NaN</td>\n",
       "      <td>NaN</td>\n",
       "      <td>NaN</td>\n",
       "      <td>NaN</td>\n",
       "      <td>NaN</td>\n",
       "    </tr>\n",
       "    <tr>\n",
       "      <th>4</th>\n",
       "      <td>0.02729</td>\n",
       "      <td>0.00</td>\n",
       "      <td>7.07</td>\n",
       "      <td>0.0</td>\n",
       "      <td>0.469</td>\n",
       "      <td>7.185</td>\n",
       "      <td>61.1</td>\n",
       "      <td>4.9671</td>\n",
       "      <td>2.0</td>\n",
       "      <td>242.0</td>\n",
       "      <td>17.8</td>\n",
       "    </tr>\n",
       "    <tr>\n",
       "      <th>...</th>\n",
       "      <td>...</td>\n",
       "      <td>...</td>\n",
       "      <td>...</td>\n",
       "      <td>...</td>\n",
       "      <td>...</td>\n",
       "      <td>...</td>\n",
       "      <td>...</td>\n",
       "      <td>...</td>\n",
       "      <td>...</td>\n",
       "      <td>...</td>\n",
       "      <td>...</td>\n",
       "    </tr>\n",
       "    <tr>\n",
       "      <th>1007</th>\n",
       "      <td>396.90000</td>\n",
       "      <td>5.64</td>\n",
       "      <td>23.90</td>\n",
       "      <td>NaN</td>\n",
       "      <td>NaN</td>\n",
       "      <td>NaN</td>\n",
       "      <td>NaN</td>\n",
       "      <td>NaN</td>\n",
       "      <td>NaN</td>\n",
       "      <td>NaN</td>\n",
       "      <td>NaN</td>\n",
       "    </tr>\n",
       "    <tr>\n",
       "      <th>1008</th>\n",
       "      <td>0.10959</td>\n",
       "      <td>0.00</td>\n",
       "      <td>11.93</td>\n",
       "      <td>0.0</td>\n",
       "      <td>0.573</td>\n",
       "      <td>6.794</td>\n",
       "      <td>89.3</td>\n",
       "      <td>2.3889</td>\n",
       "      <td>1.0</td>\n",
       "      <td>273.0</td>\n",
       "      <td>21.0</td>\n",
       "    </tr>\n",
       "    <tr>\n",
       "      <th>1009</th>\n",
       "      <td>393.45000</td>\n",
       "      <td>6.48</td>\n",
       "      <td>22.00</td>\n",
       "      <td>NaN</td>\n",
       "      <td>NaN</td>\n",
       "      <td>NaN</td>\n",
       "      <td>NaN</td>\n",
       "      <td>NaN</td>\n",
       "      <td>NaN</td>\n",
       "      <td>NaN</td>\n",
       "      <td>NaN</td>\n",
       "    </tr>\n",
       "    <tr>\n",
       "      <th>1010</th>\n",
       "      <td>0.04741</td>\n",
       "      <td>0.00</td>\n",
       "      <td>11.93</td>\n",
       "      <td>0.0</td>\n",
       "      <td>0.573</td>\n",
       "      <td>6.030</td>\n",
       "      <td>80.8</td>\n",
       "      <td>2.5050</td>\n",
       "      <td>1.0</td>\n",
       "      <td>273.0</td>\n",
       "      <td>21.0</td>\n",
       "    </tr>\n",
       "    <tr>\n",
       "      <th>1011</th>\n",
       "      <td>396.90000</td>\n",
       "      <td>7.88</td>\n",
       "      <td>11.90</td>\n",
       "      <td>NaN</td>\n",
       "      <td>NaN</td>\n",
       "      <td>NaN</td>\n",
       "      <td>NaN</td>\n",
       "      <td>NaN</td>\n",
       "      <td>NaN</td>\n",
       "      <td>NaN</td>\n",
       "      <td>NaN</td>\n",
       "    </tr>\n",
       "  </tbody>\n",
       "</table>\n",
       "<p>1012 rows × 11 columns</p>\n",
       "</div>"
      ],
      "text/plain": [
       "             0      1      2    3      4      5     6       7    8      9   \\\n",
       "0       0.00632  18.00   2.31  0.0  0.538  6.575  65.2  4.0900  1.0  296.0   \n",
       "1     396.90000   4.98  24.00  NaN    NaN    NaN   NaN     NaN  NaN    NaN   \n",
       "2       0.02731   0.00   7.07  0.0  0.469  6.421  78.9  4.9671  2.0  242.0   \n",
       "3     396.90000   9.14  21.60  NaN    NaN    NaN   NaN     NaN  NaN    NaN   \n",
       "4       0.02729   0.00   7.07  0.0  0.469  7.185  61.1  4.9671  2.0  242.0   \n",
       "...         ...    ...    ...  ...    ...    ...   ...     ...  ...    ...   \n",
       "1007  396.90000   5.64  23.90  NaN    NaN    NaN   NaN     NaN  NaN    NaN   \n",
       "1008    0.10959   0.00  11.93  0.0  0.573  6.794  89.3  2.3889  1.0  273.0   \n",
       "1009  393.45000   6.48  22.00  NaN    NaN    NaN   NaN     NaN  NaN    NaN   \n",
       "1010    0.04741   0.00  11.93  0.0  0.573  6.030  80.8  2.5050  1.0  273.0   \n",
       "1011  396.90000   7.88  11.90  NaN    NaN    NaN   NaN     NaN  NaN    NaN   \n",
       "\n",
       "        10  \n",
       "0     15.3  \n",
       "1      NaN  \n",
       "2     17.8  \n",
       "3      NaN  \n",
       "4     17.8  \n",
       "...    ...  \n",
       "1007   NaN  \n",
       "1008  21.0  \n",
       "1009   NaN  \n",
       "1010  21.0  \n",
       "1011   NaN  \n",
       "\n",
       "[1012 rows x 11 columns]"
      ]
     },
     "execution_count": 3,
     "metadata": {},
     "output_type": "execute_result"
    }
   ],
   "source": [
    "raw_df"
   ]
  },
  {
   "cell_type": "code",
   "execution_count": 7,
   "id": "d341c858-8dc4-41be-80e8-51081c58c522",
   "metadata": {},
   "outputs": [],
   "source": [
    "raw_df=raw_df.dropna()"
   ]
  },
  {
   "cell_type": "code",
   "execution_count": 9,
   "id": "24308e85-63d8-40ce-96ef-9f1de7db54ee",
   "metadata": {},
   "outputs": [
    {
     "data": {
      "text/html": [
       "<div>\n",
       "<style scoped>\n",
       "    .dataframe tbody tr th:only-of-type {\n",
       "        vertical-align: middle;\n",
       "    }\n",
       "\n",
       "    .dataframe tbody tr th {\n",
       "        vertical-align: top;\n",
       "    }\n",
       "\n",
       "    .dataframe thead th {\n",
       "        text-align: right;\n",
       "    }\n",
       "</style>\n",
       "<table border=\"1\" class=\"dataframe\">\n",
       "  <thead>\n",
       "    <tr style=\"text-align: right;\">\n",
       "      <th></th>\n",
       "      <th>0</th>\n",
       "      <th>1</th>\n",
       "      <th>2</th>\n",
       "      <th>3</th>\n",
       "      <th>4</th>\n",
       "      <th>5</th>\n",
       "      <th>6</th>\n",
       "      <th>7</th>\n",
       "      <th>8</th>\n",
       "      <th>9</th>\n",
       "      <th>10</th>\n",
       "    </tr>\n",
       "  </thead>\n",
       "  <tbody>\n",
       "    <tr>\n",
       "      <th>0</th>\n",
       "      <td>0.00632</td>\n",
       "      <td>18.0</td>\n",
       "      <td>2.31</td>\n",
       "      <td>0.0</td>\n",
       "      <td>0.538</td>\n",
       "      <td>6.575</td>\n",
       "      <td>65.2</td>\n",
       "      <td>4.0900</td>\n",
       "      <td>1.0</td>\n",
       "      <td>296.0</td>\n",
       "      <td>15.3</td>\n",
       "    </tr>\n",
       "    <tr>\n",
       "      <th>2</th>\n",
       "      <td>0.02731</td>\n",
       "      <td>0.0</td>\n",
       "      <td>7.07</td>\n",
       "      <td>0.0</td>\n",
       "      <td>0.469</td>\n",
       "      <td>6.421</td>\n",
       "      <td>78.9</td>\n",
       "      <td>4.9671</td>\n",
       "      <td>2.0</td>\n",
       "      <td>242.0</td>\n",
       "      <td>17.8</td>\n",
       "    </tr>\n",
       "    <tr>\n",
       "      <th>4</th>\n",
       "      <td>0.02729</td>\n",
       "      <td>0.0</td>\n",
       "      <td>7.07</td>\n",
       "      <td>0.0</td>\n",
       "      <td>0.469</td>\n",
       "      <td>7.185</td>\n",
       "      <td>61.1</td>\n",
       "      <td>4.9671</td>\n",
       "      <td>2.0</td>\n",
       "      <td>242.0</td>\n",
       "      <td>17.8</td>\n",
       "    </tr>\n",
       "    <tr>\n",
       "      <th>6</th>\n",
       "      <td>0.03237</td>\n",
       "      <td>0.0</td>\n",
       "      <td>2.18</td>\n",
       "      <td>0.0</td>\n",
       "      <td>0.458</td>\n",
       "      <td>6.998</td>\n",
       "      <td>45.8</td>\n",
       "      <td>6.0622</td>\n",
       "      <td>3.0</td>\n",
       "      <td>222.0</td>\n",
       "      <td>18.7</td>\n",
       "    </tr>\n",
       "    <tr>\n",
       "      <th>8</th>\n",
       "      <td>0.06905</td>\n",
       "      <td>0.0</td>\n",
       "      <td>2.18</td>\n",
       "      <td>0.0</td>\n",
       "      <td>0.458</td>\n",
       "      <td>7.147</td>\n",
       "      <td>54.2</td>\n",
       "      <td>6.0622</td>\n",
       "      <td>3.0</td>\n",
       "      <td>222.0</td>\n",
       "      <td>18.7</td>\n",
       "    </tr>\n",
       "    <tr>\n",
       "      <th>...</th>\n",
       "      <td>...</td>\n",
       "      <td>...</td>\n",
       "      <td>...</td>\n",
       "      <td>...</td>\n",
       "      <td>...</td>\n",
       "      <td>...</td>\n",
       "      <td>...</td>\n",
       "      <td>...</td>\n",
       "      <td>...</td>\n",
       "      <td>...</td>\n",
       "      <td>...</td>\n",
       "    </tr>\n",
       "    <tr>\n",
       "      <th>1002</th>\n",
       "      <td>0.06263</td>\n",
       "      <td>0.0</td>\n",
       "      <td>11.93</td>\n",
       "      <td>0.0</td>\n",
       "      <td>0.573</td>\n",
       "      <td>6.593</td>\n",
       "      <td>69.1</td>\n",
       "      <td>2.4786</td>\n",
       "      <td>1.0</td>\n",
       "      <td>273.0</td>\n",
       "      <td>21.0</td>\n",
       "    </tr>\n",
       "    <tr>\n",
       "      <th>1004</th>\n",
       "      <td>0.04527</td>\n",
       "      <td>0.0</td>\n",
       "      <td>11.93</td>\n",
       "      <td>0.0</td>\n",
       "      <td>0.573</td>\n",
       "      <td>6.120</td>\n",
       "      <td>76.7</td>\n",
       "      <td>2.2875</td>\n",
       "      <td>1.0</td>\n",
       "      <td>273.0</td>\n",
       "      <td>21.0</td>\n",
       "    </tr>\n",
       "    <tr>\n",
       "      <th>1006</th>\n",
       "      <td>0.06076</td>\n",
       "      <td>0.0</td>\n",
       "      <td>11.93</td>\n",
       "      <td>0.0</td>\n",
       "      <td>0.573</td>\n",
       "      <td>6.976</td>\n",
       "      <td>91.0</td>\n",
       "      <td>2.1675</td>\n",
       "      <td>1.0</td>\n",
       "      <td>273.0</td>\n",
       "      <td>21.0</td>\n",
       "    </tr>\n",
       "    <tr>\n",
       "      <th>1008</th>\n",
       "      <td>0.10959</td>\n",
       "      <td>0.0</td>\n",
       "      <td>11.93</td>\n",
       "      <td>0.0</td>\n",
       "      <td>0.573</td>\n",
       "      <td>6.794</td>\n",
       "      <td>89.3</td>\n",
       "      <td>2.3889</td>\n",
       "      <td>1.0</td>\n",
       "      <td>273.0</td>\n",
       "      <td>21.0</td>\n",
       "    </tr>\n",
       "    <tr>\n",
       "      <th>1010</th>\n",
       "      <td>0.04741</td>\n",
       "      <td>0.0</td>\n",
       "      <td>11.93</td>\n",
       "      <td>0.0</td>\n",
       "      <td>0.573</td>\n",
       "      <td>6.030</td>\n",
       "      <td>80.8</td>\n",
       "      <td>2.5050</td>\n",
       "      <td>1.0</td>\n",
       "      <td>273.0</td>\n",
       "      <td>21.0</td>\n",
       "    </tr>\n",
       "  </tbody>\n",
       "</table>\n",
       "<p>506 rows × 11 columns</p>\n",
       "</div>"
      ],
      "text/plain": [
       "           0     1      2    3      4      5     6       7    8      9     10\n",
       "0     0.00632  18.0   2.31  0.0  0.538  6.575  65.2  4.0900  1.0  296.0  15.3\n",
       "2     0.02731   0.0   7.07  0.0  0.469  6.421  78.9  4.9671  2.0  242.0  17.8\n",
       "4     0.02729   0.0   7.07  0.0  0.469  7.185  61.1  4.9671  2.0  242.0  17.8\n",
       "6     0.03237   0.0   2.18  0.0  0.458  6.998  45.8  6.0622  3.0  222.0  18.7\n",
       "8     0.06905   0.0   2.18  0.0  0.458  7.147  54.2  6.0622  3.0  222.0  18.7\n",
       "...       ...   ...    ...  ...    ...    ...   ...     ...  ...    ...   ...\n",
       "1002  0.06263   0.0  11.93  0.0  0.573  6.593  69.1  2.4786  1.0  273.0  21.0\n",
       "1004  0.04527   0.0  11.93  0.0  0.573  6.120  76.7  2.2875  1.0  273.0  21.0\n",
       "1006  0.06076   0.0  11.93  0.0  0.573  6.976  91.0  2.1675  1.0  273.0  21.0\n",
       "1008  0.10959   0.0  11.93  0.0  0.573  6.794  89.3  2.3889  1.0  273.0  21.0\n",
       "1010  0.04741   0.0  11.93  0.0  0.573  6.030  80.8  2.5050  1.0  273.0  21.0\n",
       "\n",
       "[506 rows x 11 columns]"
      ]
     },
     "execution_count": 9,
     "metadata": {},
     "output_type": "execute_result"
    }
   ],
   "source": [
    "raw_df"
   ]
  },
  {
   "cell_type": "code",
   "execution_count": 99,
   "id": "2347aafc-8a27-497f-b50b-6d9a16865b3d",
   "metadata": {},
   "outputs": [],
   "source": [
    "from sklearn.linear_model import LinearRegression\n",
    "from sklearn.metrics import r2_score,mean_squared_error\n",
    "from sklearn.model_selection import train_test_split"
   ]
  },
  {
   "cell_type": "markdown",
   "id": "53d0f3a9-6392-49a9-bce2-d1e13070843f",
   "metadata": {},
   "source": [
    "## DETERMINING THE EFFECT COEFFICIENT OF DETERMINATION WHEN MORE TEATURES ARE ADDED IN A MODEL"
   ]
  },
  {
   "cell_type": "code",
   "execution_count": 119,
   "id": "8edf3511-a7a8-443f-b0d7-d2f2faf78ab7",
   "metadata": {},
   "outputs": [
    {
     "name": "stdout",
     "output_type": "stream",
     "text": [
      "MEan_Squared_Error:20.336507771945854\n",
      "Coefficient of Determination:71.97276079347643\n"
     ]
    }
   ],
   "source": [
    "column_0=X[:,0]\n",
    "column1.reshape(-1,1)\n",
    "boston_model= LinearRegression()\n",
    "X_train,X_test,y_train,y_test=train_test_split(X,y)\n",
    "boston_model.fit(X_train,y_train)\n",
    "r2=boston_model.score(X_test,y_test)*100\n",
    "y_pred=boston_model.predict(X_test)\n",
    "mse=mean_squared_error(y_test,y_pred)\n",
    "print(f\"MEan_Squared_Error:{mse}\")\n",
    "print(f\"Coefficient of Determination:{r2}\")"
   ]
  },
  {
   "cell_type": "code",
   "execution_count": 123,
   "id": "844510db-c5af-48ff-9eee-a7f158e53310",
   "metadata": {},
   "outputs": [
    {
     "name": "stdout",
     "output_type": "stream",
     "text": [
      "MEan_Squared_Error:26.014089074479703\n",
      "Coefficient of Determination:72.95771771532854\n"
     ]
    }
   ],
   "source": [
    "column_0_1=X[:,[0,1]]\n",
    "#column1.reshape(-1,1)\n",
    "boston_model= LinearRegression()\n",
    "X_train,X_test,y_train,y_test=train_test_split(X,y)\n",
    "boston_model.fit(X_train,y_train)\n",
    "r2=boston_model.score(X_test,y_test)*100\n",
    "y_pred=boston_model.predict(X_test)\n",
    "mse=mean_squared_error(y_test,y_pred)\n",
    "print(f\"MEan_Squared_Error:{mse}\")\n",
    "print(f\"Coefficient of Determination:{r2}\")"
   ]
  },
  {
   "cell_type": "code",
   "execution_count": 125,
   "id": "b589b10a-6ba4-44d4-bd71-c85ed097fc00",
   "metadata": {},
   "outputs": [
    {
     "name": "stdout",
     "output_type": "stream",
     "text": [
      "MEan_Squared_Error:23.70692119160639\n",
      "Coefficient of Determination:71.53070159996761\n"
     ]
    }
   ],
   "source": [
    "column_0_1_2=X[:,[0,1,2]]\n",
    "#column1.reshape(-1,1)\n",
    "boston_model= LinearRegression()\n",
    "X_train,X_test,y_train,y_test=train_test_split(X,y)\n",
    "boston_model.fit(X_train,y_train)\n",
    "r2=boston_model.score(X_test,y_test)*100\n",
    "y_pred=boston_model.predict(X_test)\n",
    "mse=mean_squared_error(y_test,y_pred)\n",
    "print(f\"MEan_Squared_Error:{mse}\")\n",
    "print(f\"Coefficient of Determination:{r2}\")"
   ]
  },
  {
   "cell_type": "code",
   "execution_count": 127,
   "id": "1796252f-fe8b-4b80-b7f8-40f0bf2590af",
   "metadata": {},
   "outputs": [
    {
     "name": "stdout",
     "output_type": "stream",
     "text": [
      "MEan_Squared_Error:25.60224394381167\n",
      "Coefficient of Determination:68.23478329317922\n"
     ]
    }
   ],
   "source": [
    "column_0_1_2_3=X[:,[0,1,2,3]]\n",
    "#column1.reshape(-1,1)\n",
    "boston_model= LinearRegression()\n",
    "X_train,X_test,y_train,y_test=train_test_split(X,y)\n",
    "boston_model.fit(X_train,y_train)\n",
    "r2=boston_model.score(X_test,y_test)*100\n",
    "y_pred=boston_model.predict(X_test)\n",
    "mse=mean_squared_error(y_test,y_pred)\n",
    "print(f\"MEan_Squared_Error:{mse}\")\n",
    "print(f\"Coefficient of Determination:{r2}\")"
   ]
  },
  {
   "cell_type": "code",
   "execution_count": 129,
   "id": "fe94ed2a-9ec2-4a86-a3ba-a01c8a5bae89",
   "metadata": {},
   "outputs": [
    {
     "name": "stdout",
     "output_type": "stream",
     "text": [
      "MEan_Squared_Error:26.467456954025828\n",
      "Coefficient of Determination:66.81451544304981\n"
     ]
    }
   ],
   "source": [
    "column_0_1_2_3_4=X[:,[0,1,2,3,4]]\n",
    "#column1.reshape(-1,1)\n",
    "boston_model= LinearRegression()\n",
    "X_train,X_test,y_train,y_test=train_test_split(X,y)\n",
    "boston_model.fit(X_train,y_train)\n",
    "r2=boston_model.score(X_test,y_test)*100\n",
    "y_pred=boston_model.predict(X_test)\n",
    "mse=mean_squared_error(y_test,y_pred)\n",
    "print(f\"MEan_Squared_Error:{mse}\")\n",
    "print(f\"Coefficient of Determination:{r2}\")"
   ]
  },
  {
   "cell_type": "code",
   "execution_count": 131,
   "id": "5798dfab-bfba-4a0d-95d4-ff92258ba687",
   "metadata": {},
   "outputs": [
    {
     "name": "stdout",
     "output_type": "stream",
     "text": [
      "MEan_Squared_Error:27.641147022306818\n",
      "Coefficient of Determination:70.23153326741178\n"
     ]
    }
   ],
   "source": [
    "column_0_1_2_3_4_5=X[:,[0,1,2,3,4,5]]\n",
    "#column1.reshape(-1,1)\n",
    "boston_model= LinearRegression()\n",
    "X_train,X_test,y_train,y_test=train_test_split(X,y)\n",
    "boston_model.fit(X_train,y_train)\n",
    "r2=boston_model.score(X_test,y_test)*100\n",
    "y_pred=boston_model.predict(X_test)\n",
    "mse=mean_squared_error(y_test,y_pred)\n",
    "print(f\"MEan_Squared_Error:{mse}\")\n",
    "print(f\"Coefficient of Determination:{r2}\")"
   ]
  },
  {
   "cell_type": "code",
   "execution_count": 135,
   "id": "a46e4e19-eea1-4be0-9e53-bf8909616334",
   "metadata": {},
   "outputs": [
    {
     "name": "stdout",
     "output_type": "stream",
     "text": [
      "MEan_Squared_Error:29.688125210837555\n",
      "Coefficient of Determination:61.83411084223105\n"
     ]
    }
   ],
   "source": [
    "column_0_1_2_3_4_5_6=X[:,[0,1,2,3,4,5,6]]\n",
    "#column1.reshape(-1,1)\n",
    "boston_model= LinearRegression()\n",
    "X_train,X_test,y_train,y_test=train_test_split(X,y)\n",
    "boston_model.fit(X_train,y_train)\n",
    "r2=boston_model.score(X_test,y_test)*100\n",
    "y_pred=boston_model.predict(X_test)\n",
    "mse=mean_squared_error(y_test,y_pred)\n",
    "print(f\"MEan_Squared_Error:{mse}\")\n",
    "print(f\"Coefficient of Determination:{r2}\")"
   ]
  },
  {
   "cell_type": "code",
   "execution_count": 139,
   "id": "84d33ba8-1449-46b6-9b64-e1d9defaed16",
   "metadata": {},
   "outputs": [
    {
     "name": "stdout",
     "output_type": "stream",
     "text": [
      "MEan_Squared_Error:20.19667078622387\n",
      "Coefficient of Determination:74.08710406734743\n"
     ]
    }
   ],
   "source": [
    "column_0_1_2_3_4_5_6_7=X[:,[0,1,2,3,4,5,6,7]]\n",
    "#column1.reshape(-1,1)\n",
    "boston_model= LinearRegression()\n",
    "X_train,X_test,y_train,y_test=train_test_split(X,y)\n",
    "boston_model.fit(X_train,y_train)\n",
    "r2=boston_model.score(X_test,y_test)*100\n",
    "y_pred=boston_model.predict(X_test)\n",
    "mse=mean_squared_error(y_test,y_pred)\n",
    "print(f\"MEan_Squared_Error:{mse}\")\n",
    "print(f\"Coefficient of Determination:{r2}\")"
   ]
  },
  {
   "cell_type": "code",
   "execution_count": 141,
   "id": "30235b2d-9c2b-4de4-b8c1-c775ed65e62a",
   "metadata": {},
   "outputs": [
    {
     "name": "stdout",
     "output_type": "stream",
     "text": [
      "MEan_Squared_Error:23.39328426849585\n",
      "Coefficient of Determination:74.0132303168691\n"
     ]
    }
   ],
   "source": [
    "column_0_1_2_3_4_5_6_7_8=X[:,[0,1,2,3,4,5,6,7,8]]\n",
    "#column1.reshape(-1,1)\n",
    "boston_model= LinearRegression()\n",
    "X_train,X_test,y_train,y_test=train_test_split(X,y)\n",
    "boston_model.fit(X_train,y_train)\n",
    "r2=boston_model.score(X_test,y_test)*100\n",
    "y_pred=boston_model.predict(X_test)\n",
    "mse=mean_squared_error(y_test,y_pred)\n",
    "print(f\"MEan_Squared_Error:{mse}\")\n",
    "print(f\"Coefficient of Determination:{r2}\")"
   ]
  },
  {
   "cell_type": "code",
   "execution_count": 147,
   "id": "251d4de5-3d3d-4ca0-a5e8-833166eb5d1d",
   "metadata": {},
   "outputs": [
    {
     "name": "stdout",
     "output_type": "stream",
     "text": [
      "MEan_Squared_Error:25.605411771051042\n",
      "Coefficient of Determination:69.02028375523668\n"
     ]
    }
   ],
   "source": [
    "column_0_1_2_3_4_5_6_7_8_9=X[:,[0,1,2,3,4,5,6,7,8,9]]\n",
    "#column1.reshape(-1,1)\n",
    "boston_model= LinearRegression()\n",
    "X_train,X_test,y_train,y_test=train_test_split(X,y)\n",
    "boston_model.fit(X_train,y_train)\n",
    "r2=boston_model.score(X_test,y_test)*100\n",
    "y_pred=boston_model.predict(X_test)\n",
    "mse=mean_squared_error(y_test,y_pred)\n",
    "print(f\"MEan_Squared_Error:{mse}\")\n",
    "print(f\"Coefficient of Determination:{r2}\")"
   ]
  },
  {
   "cell_type": "code",
   "execution_count": 153,
   "id": "151f2a69-7a60-4a83-8f22-27b6dff1d284",
   "metadata": {},
   "outputs": [
    {
     "name": "stdout",
     "output_type": "stream",
     "text": [
      "MEan_Squared_Error:16.992795476370247\n",
      "Coefficient of Determination:79.65389433982547\n"
     ]
    }
   ],
   "source": [
    "column_0_1_2_3_4_5_6_7_8_9_10=X[:,[0,1,2,3,4,5,6,7,8,9,10]]\n",
    "#column1.reshape(-1,1)\n",
    "boston_model= LinearRegression()\n",
    "X_train,X_test,y_train,y_test=train_test_split(X,y)\n",
    "boston_model.fit(X_train,y_train)\n",
    "r2=boston_model.score(X_test,y_test)*100\n",
    "y_pred=boston_model.predict(X_test)\n",
    "mse=mean_squared_error(y_test,y_pred)\n",
    "print(f\"MEan_Squared_Error:{mse}\")\n",
    "print(f\"Coefficient of Determination:{r2}\")"
   ]
  },
  {
   "cell_type": "code",
   "execution_count": 151,
   "id": "881b6466-53f7-4703-b42f-db0111154796",
   "metadata": {},
   "outputs": [
    {
     "name": "stdout",
     "output_type": "stream",
     "text": [
      "MEan_Squared_Error:20.598806503432183\n",
      "Coefficient of Determination:75.26232217488453\n"
     ]
    }
   ],
   "source": [
    "column_0_1_2_3_4_5_6_7_8_9_10_11=X[:,[0,1,2,3,4,5,6,7,8,9,10,11]]\n",
    "#column1.reshape(-1,1)\n",
    "boston_model= LinearRegression()\n",
    "X_train,X_test,y_train,y_test=train_test_split(X,y)\n",
    "boston_model.fit(X_train,y_train)\n",
    "r2=boston_model.score(X_test,y_test)*100\n",
    "y_pred=boston_model.predict(X_test)\n",
    "mse=mean_squared_error(y_test,y_pred)\n",
    "print(f\"MEan_Squared_Error:{mse}\")\n",
    "print(f\"Coefficient of Determination:{r2}\")"
   ]
  },
  {
   "cell_type": "code",
   "execution_count": 155,
   "id": "15cea3df-fa03-4f82-a3bf-524f4e23afa3",
   "metadata": {},
   "outputs": [
    {
     "name": "stdout",
     "output_type": "stream",
     "text": [
      "MEan_Squared_Error:20.989306673812614\n",
      "Coefficient of Determination:75.01839013782548\n"
     ]
    }
   ],
   "source": [
    "column_0_1_2_3_4_5_6_7_8_9_10_11_12=X[:,[0,1,2,3,4,5,6,7,8,9,10,11,12]]\n",
    "#column1.reshape(-1,1)\n",
    "boston_model= LinearRegression()\n",
    "X_train,X_test,y_train,y_test=train_test_split(X,y)\n",
    "boston_model.fit(X_train,y_train)\n",
    "r2=boston_model.score(X_test,y_test)*100\n",
    "y_pred=boston_model.predict(X_test)\n",
    "mse=mean_squared_error(y_test,y_pred)\n",
    "print(f\"MEan_Squared_Error:{mse}\")\n",
    "print(f\"Coefficient of Determination:{r2}\")"
   ]
  },
  {
   "cell_type": "code",
   "execution_count": 162,
   "id": "0b1adbed-e8f7-402c-af65-636f1083f0c6",
   "metadata": {},
   "outputs": [
    {
     "data": {
      "text/plain": [
       "(506, 13)"
      ]
     },
     "execution_count": 162,
     "metadata": {},
     "output_type": "execute_result"
    }
   ],
   "source": [
    "column_0_1_2_3_4_5_6_7_8_9_10_11_12.shape\n"
   ]
  },
  {
   "cell_type": "code",
   "execution_count": 164,
   "id": "022ac5f7-cf68-4a56-b752-23dd3ce35435",
   "metadata": {},
   "outputs": [
    {
     "data": {
      "text/plain": [
       "(506,)"
      ]
     },
     "execution_count": 164,
     "metadata": {},
     "output_type": "execute_result"
    }
   ],
   "source": [
    "y.shape"
   ]
  },
  {
   "cell_type": "code",
   "execution_count": 168,
   "id": "5b739885-7604-47b2-8a36-56e04675f2ff",
   "metadata": {},
   "outputs": [
    {
     "ename": "TypeError",
     "evalue": "scatter() missing 1 required positional argument: 'y'",
     "output_type": "error",
     "traceback": [
      "\u001b[1;31m---------------------------------------------------------------------------\u001b[0m",
      "\u001b[1;31mTypeError\u001b[0m                                 Traceback (most recent call last)",
      "Cell \u001b[1;32mIn[168], line 2\u001b[0m\n\u001b[0;32m      1\u001b[0m \u001b[38;5;28;01mimport\u001b[39;00m \u001b[38;5;21;01mmatplotlib\u001b[39;00m\u001b[38;5;21;01m.\u001b[39;00m\u001b[38;5;21;01mpyplot\u001b[39;00m \u001b[38;5;28;01mas\u001b[39;00m \u001b[38;5;21;01mplt\u001b[39;00m\n\u001b[1;32m----> 2\u001b[0m plt\u001b[38;5;241m.\u001b[39mscatter(column_0_1_2_3_4_5_6_7_8_9_10_11_12)\n",
      "\u001b[1;31mTypeError\u001b[0m: scatter() missing 1 required positional argument: 'y'"
     ]
    }
   ],
   "source": [
    "import matplotlib.pyplot as plt\n",
    "plt.scatter(column_0_1_2_3_4_5_6_7_8_9_10_11_12)"
   ]
  },
  {
   "cell_type": "code",
   "execution_count": null,
   "id": "00a990ad-a74f-419e-b37c-9bdcb683177d",
   "metadata": {},
   "outputs": [],
   "source": []
  }
 ],
 "metadata": {
  "kernelspec": {
   "display_name": "Python 3 (ipykernel)",
   "language": "python",
   "name": "python3"
  },
  "language_info": {
   "codemirror_mode": {
    "name": "ipython",
    "version": 3
   },
   "file_extension": ".py",
   "mimetype": "text/x-python",
   "name": "python",
   "nbconvert_exporter": "python",
   "pygments_lexer": "ipython3",
   "version": "3.12.7"
  }
 },
 "nbformat": 4,
 "nbformat_minor": 5
}
