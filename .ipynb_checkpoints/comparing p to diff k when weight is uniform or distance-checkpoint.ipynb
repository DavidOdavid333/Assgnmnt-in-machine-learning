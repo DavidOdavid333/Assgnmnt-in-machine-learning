{
 "cells": [
  {
   "cell_type": "markdown",
   "id": "3cd6b16f-99eb-4d69-8fc7-051198006fdf",
   "metadata": {},
   "source": [
    "## COMPARING MINSKOWSKI DIFFERENT VALUES(1,2,3,4,5) IN DIFFERENT VALUES OF NEIGHBORS"
   ]
  },
  {
   "cell_type": "code",
   "execution_count": 1,
   "id": "a68ad9ec-1955-45ac-8efc-17a34100d295",
   "metadata": {},
   "outputs": [],
   "source": [
    "from sklearn.datasets import load_breast_cancer"
   ]
  },
  {
   "cell_type": "code",
   "execution_count": 5,
   "id": "7f16f15e-0013-4ede-80ca-36851b7a1197",
   "metadata": {},
   "outputs": [],
   "source": [
    "breast_cancer=load_breast_cancer()"
   ]
  },
  {
   "cell_type": "code",
   "execution_count": 18,
   "id": "c81372c4-da8f-49af-bf7a-0ed40fbfb382",
   "metadata": {},
   "outputs": [],
   "source": [
    "X=breast_cancer.data\n",
    "y=breast_cancer.target"
   ]
  },
  {
   "cell_type": "code",
   "execution_count": 19,
   "id": "efcadec7-5fcc-4c42-81c8-8eb06755f89a",
   "metadata": {},
   "outputs": [],
   "source": [
    "from sklearn.neighbors import KNeighborsClassifier\n",
    "from sklearn.model_selection import train_test_split\n",
    "from sklearn.metrics import r2_score"
   ]
  },
  {
   "cell_type": "markdown",
   "id": "844e7337-ec0f-4aea-bed1-f2363f57907b",
   "metadata": {},
   "source": [
    "## WHEN K OR NEAREST NEIGHBOURS IS 5"
   ]
  },
  {
   "cell_type": "code",
   "execution_count": 34,
   "id": "0dd0719c-2a31-4407-aae5-348e14e82e38",
   "metadata": {},
   "outputs": [],
   "source": [
    "def knn_cancer_predict(K=5,z=[1,2,3,4,5]):\n",
    "    for i in z:\n",
    "        X_train, X_test, y_train, y_test=train_test_split(X,y)\n",
    "        k_model=KNeighborsClassifier(K,p=i)\n",
    "        k_model.fit(X_train,y_train)\n",
    "        y_pred=k_model.predict(X_test)\n",
    "        r2=r2_score(y_test,y_pred)*100\n",
    "        print(f\"KNN with {K} neighbors and minkowski value of {i} has {r2} accuracy\")"
   ]
  },
  {
   "cell_type": "code",
   "execution_count": 35,
   "id": "520394e7-2477-48d4-a53b-a55e4b8aa1fa",
   "metadata": {},
   "outputs": [
    {
     "name": "stdout",
     "output_type": "stream",
     "text": [
      "KNN with 5 neighbors and minkowski value of 1 has 77.81471631205673 accuracy\n",
      "KNN with 5 neighbors and minkowski value of 2 has 65.69372251099558 accuracy\n",
      "KNN with 5 neighbors and minkowski value of 3 has 70.020964360587 accuracy\n",
      "KNN with 5 neighbors and minkowski value of 4 has 68.30673758865248 accuracy\n",
      "KNN with 5 neighbors and minkowski value of 5 has 54.67032967032968 accuracy\n"
     ]
    }
   ],
   "source": [
    "knn_cancer_predict()\n"
   ]
  },
  {
   "cell_type": "markdown",
   "id": "fa1079c0-da70-437f-b5d6-76129e3e7c70",
   "metadata": {},
   "source": [
    "## WHEN K OR NEAREST NEIGHBORS IS 7"
   ]
  },
  {
   "cell_type": "code",
   "execution_count": 29,
   "id": "d1c5635a-c9dd-42dc-9977-6cae1bb56b0b",
   "metadata": {},
   "outputs": [
    {
     "name": "stdout",
     "output_type": "stream",
     "text": [
      "KNN with 7 neighbors and minkowski value of 1 has 70.828233374133 accuracy\n",
      "KNN with 7 neighbors and minkowski value of 2 has 73.894523326572 accuracy\n",
      "KNN with 7 neighbors and minkowski value of 3 has 72.80219780219781 accuracy\n",
      "KNN with 7 neighbors and minkowski value of 4 has 68.4136546184739 accuracy\n",
      "KNN with 7 neighbors and minkowski value of 5 has 68.26069410815172 accuracy\n"
     ]
    }
   ],
   "source": [
    "z=[1,2,3,4,5]\n",
    "for i in z:\n",
    "    n_neighbors=7\n",
    "    X_train, X_test, y_train, y_test=train_test_split(X,y)\n",
    "    k_model=KNeighborsClassifier(n_neighbors,p=i)\n",
    "    k_model.fit(X_train,y_train)\n",
    "    y_pred=k_model.predict(X_test)\n",
    "    r2=r2_score(y_test,y_pred)*100\n",
    "    print(f\"KNN with {n_neighbors} neighbors and minkowski value of {i} has {r2} accuracy\")"
   ]
  },
  {
   "cell_type": "markdown",
   "id": "b5144bf9-079f-4d90-a85a-187157c656d6",
   "metadata": {},
   "source": [
    "## WHEN K OR NEAREST NEIGHBORS IS 9"
   ]
  },
  {
   "cell_type": "code",
   "execution_count": 30,
   "id": "0c627497-61fb-4122-83b6-266be0709eaf",
   "metadata": {},
   "outputs": [
    {
     "name": "stdout",
     "output_type": "stream",
     "text": [
      "KNN with 9 neighbors and minkowski value of 1 has 64.77832512315271 accuracy\n",
      "KNN with 9 neighbors and minkowski value of 2 has 59.63960052105948 accuracy\n",
      "KNN with 9 neighbors and minkowski value of 3 has 84.7612958226769 accuracy\n",
      "KNN with 9 neighbors and minkowski value of 4 has 62.07670338637291 accuracy\n",
      "KNN with 9 neighbors and minkowski value of 5 has 72.8021978021978 accuracy\n"
     ]
    }
   ],
   "source": [
    "z=[1,2,3,4,5]\n",
    "for i in z:\n",
    "    n_neighbors=9\n",
    "    X_train, X_test, y_train, y_test=train_test_split(X,y)\n",
    "    k_model=KNeighborsClassifier(n_neighbors,p=i)\n",
    "    k_model.fit(X_train,y_train)\n",
    "    y_pred=k_model.predict(X_test)\n",
    "    r2=r2_score(y_test,y_pred)*100\n",
    "    print(f\"KNN with {n_neighbors} neighbors and minkowski value of {i} has {r2} accuracy\")"
   ]
  },
  {
   "cell_type": "markdown",
   "id": "a51e437e-e2e9-41af-8ef0-72d429b8dcf6",
   "metadata": {},
   "source": [
    "## WHEN K OR NEARESTR NEIGHBORS IS 11"
   ]
  },
  {
   "cell_type": "code",
   "execution_count": 31,
   "id": "bde3faf4-fd89-4830-807b-c227f52dc3eb",
   "metadata": {},
   "outputs": [
    {
     "name": "stdout",
     "output_type": "stream",
     "text": [
      "KNN with 11 neighbors and minkowski value of 1 has 68.64035087719299 accuracy\n",
      "KNN with 11 neighbors and minkowski value of 2 has 57.33162830349529 accuracy\n",
      "KNN with 11 neighbors and minkowski value of 3 has 57.84580498866212 accuracy\n",
      "KNN with 11 neighbors and minkowski value of 4 has 56.76744186046512 accuracy\n",
      "KNN with 11 neighbors and minkowski value of 5 has 61.59090909090909 accuracy\n"
     ]
    }
   ],
   "source": [
    "z=[1,2,3,4,5]\n",
    "for i in z:\n",
    "    n_neighbors=11\n",
    "    X_train, X_test, y_train, y_test=train_test_split(X,y)\n",
    "    k_model=KNeighborsClassifier(n_neighbors,p=i)\n",
    "    k_model.fit(X_train,y_train)\n",
    "    y_pred=k_model.predict(X_test)\n",
    "    r2=r2_score(y_test,y_pred)*100\n",
    "    print(f\"KNN with {n_neighbors} neighbors and minkowski value of {i} has {r2} accuracy\")"
   ]
  },
  {
   "cell_type": "markdown",
   "id": "03805fd2-14f3-472a-b513-305e6ed12cda",
   "metadata": {},
   "source": [
    "## WHEN K OR NEAREST NEIGHBORS IS 13"
   ]
  },
  {
   "cell_type": "code",
   "execution_count": 32,
   "id": "393764be-d1b5-4482-8002-464e0f37189d",
   "metadata": {},
   "outputs": [
    {
     "name": "stdout",
     "output_type": "stream",
     "text": [
      "KNN with 13 neighbors and minkowski value of 1 has 79.1718684977112 accuracy\n",
      "KNN with 13 neighbors and minkowski value of 2 has 71.47606382978722 accuracy\n",
      "KNN with 13 neighbors and minkowski value of 3 has 75.61807331628303 accuracy\n",
      "KNN with 13 neighbors and minkowski value of 4 has 73.58374384236454 accuracy\n",
      "KNN with 13 neighbors and minkowski value of 5 has 52.46010638297871 accuracy\n"
     ]
    }
   ],
   "source": [
    "z=[1,2,3,4,5]\n",
    "for i in z:\n",
    "    n_neighbors=13\n",
    "    X_train, X_test, y_train, y_test=train_test_split(X,y)\n",
    "    k_model=KNeighborsClassifier(n_neighbors,p=i)\n",
    "    k_model.fit(X_train,y_train)\n",
    "    y_pred=k_model.predict(X_test)\n",
    "    r2=r2_score(y_test,y_pred)*100\n",
    "    print(f\"KNN with {n_neighbors} neighbors and minkowski value of {i} has {r2} accuracy\")"
   ]
  },
  {
   "cell_type": "markdown",
   "id": "28804b2b-f3c2-4a7c-aeaf-8335ecafa975",
   "metadata": {},
   "source": [
    "## WHEN K OR NEAREST NEIGHBORS IS 15"
   ]
  },
  {
   "cell_type": "markdown",
   "id": "7d41ab05-7c9d-4e6a-a2d7-d9cbe0e16edb",
   "metadata": {},
   "source": [
    "z=[1,2,3,4,5]\n",
    "for i in z:\n",
    "    n_neighbors=15\n",
    "    X_train, X_test, y_train, y_test=train_test_split(X,y)\n",
    "    k_model=KNeighborsClassifier(n_neighbors,p=i)\n",
    "    k_model.fit(X_train,y_train)\n",
    "    y_pred=k_model.predict(X_test)\n",
    "    r2=r2_score(y_test,y_pred)*100\n",
    "    print(f\"KNN with {n_neighbors} neighbors and minkowski value of {i} has {r2} accuracy\")"
   ]
  },
  {
   "cell_type": "code",
   "execution_count": null,
   "id": "b8968bf6-020c-47eb-af75-4d238cdd02d4",
   "metadata": {},
   "outputs": [],
   "source": []
  }
 ],
 "metadata": {
  "kernelspec": {
   "display_name": "Python 3 (ipykernel)",
   "language": "python",
   "name": "python3"
  },
  "language_info": {
   "codemirror_mode": {
    "name": "ipython",
    "version": 3
   },
   "file_extension": ".py",
   "mimetype": "text/x-python",
   "name": "python",
   "nbconvert_exporter": "python",
   "pygments_lexer": "ipython3",
   "version": "3.12.7"
  }
 },
 "nbformat": 4,
 "nbformat_minor": 5
}
