{
 "cells": [
  {
   "cell_type": "code",
   "execution_count": 1,
   "id": "4fc0b8eb-e7d1-4aca-8885-ee98c388996a",
   "metadata": {},
   "outputs": [],
   "source": [
    "from sklearn.neighbors import KNeighborsClassifier"
   ]
  },
  {
   "cell_type": "code",
   "execution_count": 2,
   "id": "ab9c15ad-3064-490f-8ffa-e4615fa4cbfb",
   "metadata": {},
   "outputs": [],
   "source": [
    "from sklearn.datasets import load_breast_cancer"
   ]
  },
  {
   "cell_type": "code",
   "execution_count": 10,
   "id": "6ae1f4b4-bda6-4543-bad7-7087e6a4815c",
   "metadata": {},
   "outputs": [],
   "source": [
    "cancer_data=load_breast_cancer()"
   ]
  },
  {
   "cell_type": "code",
   "execution_count": 13,
   "id": "f5e61b4b-303b-41a7-938f-7e585bd9cde4",
   "metadata": {},
   "outputs": [
    {
     "data": {
      "text/plain": [
       "array(['malignant', 'benign'], dtype='<U9')"
      ]
     },
     "execution_count": 13,
     "metadata": {},
     "output_type": "execute_result"
    }
   ],
   "source": [
    "cancer_data.target_names"
   ]
  },
  {
   "cell_type": "code",
   "execution_count": 11,
   "id": "901069d3-f27d-4907-9c3d-b10149f4ca9f",
   "metadata": {},
   "outputs": [
    {
     "data": {
      "text/plain": [
       "array([[1.799e+01, 1.038e+01, 1.228e+02, ..., 2.654e-01, 4.601e-01,\n",
       "        1.189e-01],\n",
       "       [2.057e+01, 1.777e+01, 1.329e+02, ..., 1.860e-01, 2.750e-01,\n",
       "        8.902e-02],\n",
       "       [1.969e+01, 2.125e+01, 1.300e+02, ..., 2.430e-01, 3.613e-01,\n",
       "        8.758e-02],\n",
       "       ...,\n",
       "       [1.660e+01, 2.808e+01, 1.083e+02, ..., 1.418e-01, 2.218e-01,\n",
       "        7.820e-02],\n",
       "       [2.060e+01, 2.933e+01, 1.401e+02, ..., 2.650e-01, 4.087e-01,\n",
       "        1.240e-01],\n",
       "       [7.760e+00, 2.454e+01, 4.792e+01, ..., 0.000e+00, 2.871e-01,\n",
       "        7.039e-02]])"
      ]
     },
     "execution_count": 11,
     "metadata": {},
     "output_type": "execute_result"
    }
   ],
   "source": [
    "cancer_data.data"
   ]
  },
  {
   "cell_type": "code",
   "execution_count": 14,
   "id": "3008aa0e-0d0f-46dd-9863-56fa3ddaa8b6",
   "metadata": {},
   "outputs": [],
   "source": [
    "X=cancer_data.data\n",
    "y=cancer_data.target"
   ]
  },
  {
   "cell_type": "code",
   "execution_count": 17,
   "id": "edcf4d1c-6de8-48ee-9b12-4be6fa3a7ddd",
   "metadata": {},
   "outputs": [],
   "source": [
    "from sklearn.model_selection import train_test_split\n",
    "from sklearn.metrics import r2_score"
   ]
  },
  {
   "cell_type": "code",
   "execution_count": 22,
   "id": "f6b99abd-8926-4632-8850-211e55ba1387",
   "metadata": {},
   "outputs": [],
   "source": [
    "def knn_cancer_predict(x):\n",
    "    X_train, X_test, y_train, y_test=train_test_split(X,y)\n",
    "    k_model=KNeighborsClassifier(x)\n",
    "    k_model.fit(X_train,y_train)\n",
    "    y_pred=k_model.predict(X_test)\n",
    "    r2=r2_score(y_test,y_pred)*100\n",
    "    print(f\"KNN with {x} neighbors has {r2} accuracy\")"
   ]
  },
  {
   "cell_type": "code",
   "execution_count": 23,
   "id": "7dbce09d-6161-4118-98ba-d2049ffbe0f6",
   "metadata": {},
   "outputs": [
    {
     "name": "stdout",
     "output_type": "stream",
     "text": [
      "KNN with 5 neighbors has 74.81409001956946 accuracy\n"
     ]
    }
   ],
   "source": [
    "knn_cancer_predict(5)"
   ]
  },
  {
   "cell_type": "code",
   "execution_count": 24,
   "id": "205de485-afac-42a0-9066-5171c223d27a",
   "metadata": {},
   "outputs": [
    {
     "name": "stdout",
     "output_type": "stream",
     "text": [
      "KNN with 7 neighbors has 79.57976336189311 accuracy\n"
     ]
    }
   ],
   "source": [
    "knn_cancer_predict(7)"
   ]
  },
  {
   "cell_type": "code",
   "execution_count": 25,
   "id": "df39f754-154a-4f88-8326-0bda432efab9",
   "metadata": {},
   "outputs": [
    {
     "name": "stdout",
     "output_type": "stream",
     "text": [
      "KNN with 9 neighbors has 88.61011549183593 accuracy\n"
     ]
    }
   ],
   "source": [
    "knn_cancer_predict(9)"
   ]
  },
  {
   "cell_type": "code",
   "execution_count": 26,
   "id": "f9252b0f-cdf9-404b-bc8f-7ed1b9cf3c4b",
   "metadata": {},
   "outputs": [
    {
     "name": "stdout",
     "output_type": "stream",
     "text": [
      "KNN with 11 neighbors has 73.22097378277154 accuracy\n"
     ]
    }
   ],
   "source": [
    "knn_cancer_predict(11)"
   ]
  },
  {
   "cell_type": "code",
   "execution_count": 27,
   "id": "20791985-0f02-4240-9b75-636b695ed799",
   "metadata": {},
   "outputs": [
    {
     "name": "stdout",
     "output_type": "stream",
     "text": [
      "KNN with 13 neighbors has 65.80583452893352 accuracy\n"
     ]
    }
   ],
   "source": [
    "knn_cancer_predict(13)"
   ]
  },
  {
   "cell_type": "code",
   "execution_count": 28,
   "id": "c423ef05-d547-4a11-a1db-d640fcdb4255",
   "metadata": {},
   "outputs": [
    {
     "name": "stdout",
     "output_type": "stream",
     "text": [
      "KNN with 15 neighbors has 73.73737373737374 accuracy\n"
     ]
    }
   ],
   "source": [
    "knn_cancer_predict(15)"
   ]
  },
  {
   "cell_type": "code",
   "execution_count": null,
   "id": "94ad3e68-972e-42e3-b45c-dfdba417eaf7",
   "metadata": {},
   "outputs": [],
   "source": []
  }
 ],
 "metadata": {
  "kernelspec": {
   "display_name": "Python 3 (ipykernel)",
   "language": "python",
   "name": "python3"
  },
  "language_info": {
   "codemirror_mode": {
    "name": "ipython",
    "version": 3
   },
   "file_extension": ".py",
   "mimetype": "text/x-python",
   "name": "python",
   "nbconvert_exporter": "python",
   "pygments_lexer": "ipython3",
   "version": "3.12.7"
  }
 },
 "nbformat": 4,
 "nbformat_minor": 5
}
